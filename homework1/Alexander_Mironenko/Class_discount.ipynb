{
 "cells": [
  {
   "cell_type": "code",
   "execution_count": null,
   "metadata": {},
   "outputs": [],
   "source": [
    "#Мироненко Александр\n",
    "#Позже сделаю версию .py"
   ]
  },
  {
   "cell_type": "code",
   "execution_count": 1,
   "metadata": {
    "ExecuteTime": {
     "end_time": "2021-11-07T16:29:14.614567Z",
     "start_time": "2021-11-07T16:29:14.204179Z"
    }
   },
   "outputs": [],
   "source": [
    "import pandas as pd\n",
    "import numpy as np\n",
    "import warnings\n",
    "\n",
    "warnings.filterwarnings(\"ignore\")"
   ]
  },
  {
   "cell_type": "code",
   "execution_count": 2,
   "metadata": {
    "ExecuteTime": {
     "end_time": "2021-11-07T16:29:14.630524Z",
     "start_time": "2021-11-07T16:29:14.616514Z"
    }
   },
   "outputs": [],
   "source": [
    "class Interpolator:\n",
    "    \"\"\"Linear interpolator.\n",
    "    \"\"\"\n",
    "\n",
    "    @staticmethod\n",
    "    def interpolate(x_list: list, y_list: list, z: float):\n",
    "        \"\"\"Linear interpolate.\n",
    "        Parameters\n",
    "        __________\n",
    "        x_list : list\n",
    "            x values.\n",
    "        y_list: list\n",
    "            y values.\n",
    "        z: float\n",
    "            Interpolate in that point z.\n",
    "        Returns\n",
    "        _______\n",
    "        float\n",
    "            Interpolate value.\n",
    "        Raises\n",
    "        ______\n",
    "        ValueError\n",
    "            x_list must be sorted ASC.\n",
    "        \"\"\"\n",
    "        if x_list != sorted(x_list):\n",
    "            raise ValueError('x_list must be sorted ASC')\n",
    "        for index, element in enumerate(x_list):\n",
    "            if z <= element:\n",
    "                delta = (z - x_list[index - 1]) / (x_list[index] - x_list[index - 1])\n",
    "                answer = y_list[index - 1] + (y_list[index] - y_list[index - 1]) * delta\n",
    "                break\n",
    "        return answer"
   ]
  },
  {
   "cell_type": "code",
   "execution_count": 3,
   "metadata": {
    "ExecuteTime": {
     "end_time": "2021-11-07T16:29:14.646461Z",
     "start_time": "2021-11-07T16:29:14.631501Z"
    }
   },
   "outputs": [],
   "source": [
    "class curve_discount_swap_points:\n",
    "    \"\"\"класс для построения кривой дисконтирования для рубля и кривой своп пойнтов для доллар рубля.\n",
    "    \"\"\"\n",
    "    def __init__(self,current_data):\n",
    "        self.sw_points_time,self.sw_points_value = None,None\n",
    "        self.current_data = current_data\n",
    "#         пока ничего не делаем с USD_RATE\n",
    "        \n",
    "    @staticmethod\n",
    "    def discount_factor(data):\n",
    "        return [[i,0.99] for i in data]\n",
    "    \n",
    "    @staticmethod\n",
    "    def preparation_SW_data(SW_data):\n",
    "        term = {\"ON\":pd.Timedelta(\"0 D\").days,\"W\":pd.Timedelta(\"1 W\").days,\"M\":pd.Timedelta(\"30 D\").days,\"Y\":pd.Timedelta(\"1 Y\").days}\n",
    "        \n",
    "        time = [term[\"ON\"] if i==\"ON\" else int(i[:-1])*term[i[-1]]  for i in SW_data[\"Term\"]]\n",
    "        \n",
    "        points = SW_data[\"SW POINTS\"]\n",
    "        return time,points\n",
    "\n",
    "    def sw_points_inter(self,data):\n",
    "        data_new = list(map(pd.to_datetime,data))\n",
    "        data_new = [(i.date()-self.current_data).days for i in data_new]\n",
    "        return [[data[i],Interpolator.interpolate(self.sw_points_time,self.sw_points_value,data_new[i])] for i in range(len(data_new))]"
   ]
  },
  {
   "cell_type": "code",
   "execution_count": 4,
   "metadata": {
    "ExecuteTime": {
     "end_time": "2021-11-07T16:29:14.662391Z",
     "start_time": "2021-11-07T16:29:14.647457Z"
    }
   },
   "outputs": [],
   "source": [
    "data = pd.read_csv('RUB swap points.csv', delimiter=',').loc[:,[\"Term\",\"SW POINTS\"]]"
   ]
  },
  {
   "cell_type": "code",
   "execution_count": 5,
   "metadata": {
    "ExecuteTime": {
     "end_time": "2021-11-07T16:29:14.677378Z",
     "start_time": "2021-11-07T16:29:14.663389Z"
    }
   },
   "outputs": [],
   "source": [
    "My_class = curve_discount_swap_points(pd.to_datetime('today').date())\n",
    "My_class.sw_points_time,My_class.sw_points_value = My_class.preparation_SW_data(data)"
   ]
  },
  {
   "cell_type": "code",
   "execution_count": 6,
   "metadata": {
    "ExecuteTime": {
     "end_time": "2021-11-07T16:29:14.693316Z",
     "start_time": "2021-11-07T16:29:14.678348Z"
    }
   },
   "outputs": [
    {
     "data": {
      "text/plain": [
       "[['11.11.21', 589.2857142857142],\n",
       " ['01.04.22', 7906.133333333333],\n",
       " ['01.05.24', 108388.8602739726]]"
      ]
     },
     "execution_count": 6,
     "metadata": {},
     "output_type": "execute_result"
    }
   ],
   "source": [
    "date = [\"11.11.21\",\"01.04.22\",\"01.05.24\"]\n",
    "My_class.sw_points_inter(date)"
   ]
  },
  {
   "cell_type": "code",
   "execution_count": 8,
   "metadata": {
    "ExecuteTime": {
     "end_time": "2021-11-07T16:29:27.817337Z",
     "start_time": "2021-11-07T16:29:27.808361Z"
    }
   },
   "outputs": [
    {
     "data": {
      "text/plain": [
       "[['11.11.21', 0.99], ['01.04.22', 0.99], ['01.05.24', 0.99]]"
      ]
     },
     "execution_count": 8,
     "metadata": {},
     "output_type": "execute_result"
    }
   ],
   "source": [
    "My_class.discount_factor(date)"
   ]
  },
  {
   "cell_type": "code",
   "execution_count": 7,
   "metadata": {
    "ExecuteTime": {
     "end_time": "2021-11-07T16:29:14.708269Z",
     "start_time": "2021-11-07T16:29:14.695304Z"
    }
   },
   "outputs": [
    {
     "data": {
      "text/html": [
       "<div>\n",
       "<style scoped>\n",
       "    .dataframe tbody tr th:only-of-type {\n",
       "        vertical-align: middle;\n",
       "    }\n",
       "\n",
       "    .dataframe tbody tr th {\n",
       "        vertical-align: top;\n",
       "    }\n",
       "\n",
       "    .dataframe thead th {\n",
       "        text-align: right;\n",
       "    }\n",
       "</style>\n",
       "<table border=\"1\" class=\"dataframe\">\n",
       "  <thead>\n",
       "    <tr style=\"text-align: right;\">\n",
       "      <th></th>\n",
       "      <th>Term</th>\n",
       "      <th>SW POINTS</th>\n",
       "    </tr>\n",
       "  </thead>\n",
       "  <tbody>\n",
       "    <tr>\n",
       "      <th>0</th>\n",
       "      <td>ON</td>\n",
       "      <td>131</td>\n",
       "    </tr>\n",
       "    <tr>\n",
       "      <th>1</th>\n",
       "      <td>1W</td>\n",
       "      <td>933</td>\n",
       "    </tr>\n",
       "    <tr>\n",
       "      <th>2</th>\n",
       "      <td>2W</td>\n",
       "      <td>2269</td>\n",
       "    </tr>\n",
       "    <tr>\n",
       "      <th>3</th>\n",
       "      <td>1M</td>\n",
       "      <td>4156</td>\n",
       "    </tr>\n",
       "    <tr>\n",
       "      <th>4</th>\n",
       "      <td>2M</td>\n",
       "      <td>8174</td>\n",
       "    </tr>\n",
       "    <tr>\n",
       "      <th>5</th>\n",
       "      <td>3M</td>\n",
       "      <td>12766</td>\n",
       "    </tr>\n",
       "    <tr>\n",
       "      <th>6</th>\n",
       "      <td>6M</td>\n",
       "      <td>25723</td>\n",
       "    </tr>\n",
       "    <tr>\n",
       "      <th>7</th>\n",
       "      <td>9M</td>\n",
       "      <td>39130</td>\n",
       "    </tr>\n",
       "    <tr>\n",
       "      <th>8</th>\n",
       "      <td>12M</td>\n",
       "      <td>52760</td>\n",
       "    </tr>\n",
       "    <tr>\n",
       "      <th>9</th>\n",
       "      <td>2Y</td>\n",
       "      <td>101653</td>\n",
       "    </tr>\n",
       "    <tr>\n",
       "      <th>10</th>\n",
       "      <td>3Y</td>\n",
       "      <td>143324</td>\n",
       "    </tr>\n",
       "    <tr>\n",
       "      <th>11</th>\n",
       "      <td>4Y</td>\n",
       "      <td>180040</td>\n",
       "    </tr>\n",
       "    <tr>\n",
       "      <th>12</th>\n",
       "      <td>5Y</td>\n",
       "      <td>214681</td>\n",
       "    </tr>\n",
       "  </tbody>\n",
       "</table>\n",
       "</div>"
      ],
      "text/plain": [
       "   Term  SW POINTS\n",
       "0    ON        131\n",
       "1    1W        933\n",
       "2    2W       2269\n",
       "3    1M       4156\n",
       "4    2M       8174\n",
       "5    3M      12766\n",
       "6    6M      25723\n",
       "7    9M      39130\n",
       "8   12M      52760\n",
       "9    2Y     101653\n",
       "10   3Y     143324\n",
       "11   4Y     180040\n",
       "12   5Y     214681"
      ]
     },
     "execution_count": 7,
     "metadata": {},
     "output_type": "execute_result"
    }
   ],
   "source": [
    "data"
   ]
  }
 ],
 "metadata": {
  "kernelspec": {
   "display_name": "Python 3",
   "language": "python",
   "name": "python3"
  },
  "language_info": {
   "codemirror_mode": {
    "name": "ipython",
    "version": 3
   },
   "file_extension": ".py",
   "mimetype": "text/x-python",
   "name": "python",
   "nbconvert_exporter": "python",
   "pygments_lexer": "ipython3",
   "version": "3.8.3"
  }
 },
 "nbformat": 4,
 "nbformat_minor": 4
}
